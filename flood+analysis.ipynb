{
 "cells": [
  {
   "cell_type": "code",
   "execution_count": 1,
   "metadata": {
    "collapsed": true
   },
   "outputs": [],
   "source": [
    "import csv\n",
    "import numpy\n",
    "from numpy import genfromtxt\n",
    "my_data = genfromtxt('flood.csv', delimiter=',')"
   ]
  },
  {
   "cell_type": "code",
   "execution_count": 2,
   "metadata": {
    "collapsed": false
   },
   "outputs": [],
   "source": [
    "datasets = my_data[1:,1:]\n",
    "numpy.random.shuffle(datasets)"
   ]
  },
  {
   "cell_type": "code",
   "execution_count": 3,
   "metadata": {
    "collapsed": false
   },
   "outputs": [],
   "source": [
    "train_set_x = datasets[:3496,:-1]\n",
    "train_set_y = datasets[:3496,-1]\n",
    "valid_set_x = datasets[3496:4496,:-1]\n",
    "valid_set_y = datasets[3496:4496,-1]\n",
    "test_set_x = datasets[4496:5496,:-1]\n",
    "test_set_y = datasets[4496:5496,-1]\n",
    "datasets = [[train_set_x,train_set_y],[valid_set_x, valid_set_y], [test_set_x, test_set_y]]\n",
    "\n",
    "costRate = 3\n",
    "train_set_y_cost = []\n",
    "valid_set_y_cost = []\n",
    "test_set_y_cost = []\n",
    "for i in range(train_set_y.shape[0]):\n",
    "    if train_set_y[i] == 1:\n",
    "        train_set_y_cost.append(costRate)\n",
    "    else:\n",
    "        train_set_y_cost.append(1)\n",
    "\n",
    "for i in range(valid_set_y.shape[0]):\n",
    "    if valid_set_y[i] == 1:\n",
    "        valid_set_y_cost.append(costRate)\n",
    "    else:\n",
    "        valid_set_y_cost.append(1)\n",
    "        \n",
    "for i in range(test_set_y.shape[0]):\n",
    "    if test_set_y[i] == 1:\n",
    "        test_set_y_cost.append(costRate)\n",
    "    else:\n",
    "        test_set_y_cost.append(1)"
   ]
  },
  {
   "cell_type": "code",
   "execution_count": 4,
   "metadata": {
    "collapsed": false
   },
   "outputs": [],
   "source": [
    "from numpy import *\n",
    "for i in range(train_set_x.shape[1]):\n",
    "    train_set_x[:,i] = (train_set_x[:,i] - mean(train_set_x[:,i]))/ std(train_set_x[:,i])\n",
    "for i in range(valid_set_x.shape[1]):\n",
    "    valid_set_x[:,i] = (valid_set_x[:,i] - mean(valid_set_x[:,i]))/ std(valid_set_x[:,i])\n",
    "\n",
    "for i in range(test_set_x.shape[1]):\n",
    "    test_set_x[:,i] = (test_set_x[:,i] - mean(test_set_x[:,i]))/ std(test_set_x[:,i])"
   ]
  },
  {
   "cell_type": "code",
   "execution_count": 5,
   "metadata": {
    "collapsed": false
   },
   "outputs": [
    {
     "name": "stdout",
     "output_type": "stream",
     "text": [
      "... building the model\n",
      "... training\n",
      "Optimization complete. Best validation score of 30.000000 % obtained at iteration 51, with test performance 26.500000 %"
     ]
    },
    {
     "name": "stderr",
     "output_type": "stream",
     "text": [
      "Using gpu device 0: GRID K520 (CNMeM is disabled, cuDNN Version is too old. Update to v5, was 3007.)\n",
      "The code for file floodAnalysis.pyc ran for 1.42m"
     ]
    },
    {
     "name": "stdout",
     "output_type": "stream",
     "text": [
      "\n"
     ]
    },
    {
     "name": "stderr",
     "output_type": "stream",
     "text": [
      "\n"
     ]
    }
   ],
   "source": [
    "from floodAnalysis import test_mlp\n",
    "import theano.tensor as T\n",
    "pred = test_mlp(learning_rate=0.05, L1_reg=0.000, L2_reg=0.0000005, n_epochs=2000,\n",
    "             batch_size=1000, n_layer = 5, n_hidden= [500,500,500,500,500], verbose=False, \n",
    "             activation = [T.tanh,T.tanh, T.tanh, T.tanh,T.tanh], datasets=datasets, costV = [train_set_y_cost,valid_set_y_cost, test_set_y_cost ])"
   ]
  },
  {
   "cell_type": "code",
   "execution_count": 6,
   "metadata": {
    "collapsed": false
   },
   "outputs": [
    {
     "name": "stdout",
     "output_type": "stream",
     "text": [
      "('test accuracy of label 0 is: ', 0.8092105263157895)\n",
      "('test accuracy of label 1 is: ', 0.5)\n",
      "('Whole accuracy is: ', 0.782)\n"
     ]
    }
   ],
   "source": [
    "prediction = (test_set_y == pred)\n",
    "lst = []\n",
    "for i in range(len(prediction)):\n",
    "    lst.append((test_set_y[i],prediction[i]))\n",
    "\n",
    "num_0 = 0\n",
    "num_1 = 0\n",
    "num_0_right = 0\n",
    "num_1_right = 0\n",
    "for i in lst:\n",
    "    if i[0] == 0:\n",
    "        num_0 += 1\n",
    "        if i[1] == True:\n",
    "            num_0_right += 1\n",
    "    \n",
    "    if i[0] == 1:\n",
    "        num_1 += 1\n",
    "        if i[1] == True:\n",
    "            num_1_right += 1\n",
    "\n",
    "num_0_right_rate = num_0_right * 1.0 / num_0\n",
    "num_1_right_rate = num_1_right * 1.0 / num_1\n",
    "print (\"test accuracy of label 0 is: \", num_0_right_rate)\n",
    "print (\"test accuracy of label 1 is: \", num_1_right_rate)\n",
    "print (\"Whole accuracy is: \", (num_0_right + num_1_right) * 1.0 / (num_0 + num_1))"
   ]
  },
  {
   "cell_type": "code",
   "execution_count": 11,
   "metadata": {
    "collapsed": false
   },
   "outputs": [
    {
     "name": "stdout",
     "output_type": "stream",
     "text": [
      "... building the model\n",
      "... training\n",
      "Optimization complete. Best validation score of 29.100000 % obtained at iteration 27, with test performance 29.200000 %\n"
     ]
    },
    {
     "name": "stderr",
     "output_type": "stream",
     "text": [
      "The code for file floodAnalysis.pyc ran for 2.52m\n"
     ]
    }
   ],
   "source": [
    "from floodAnalysis import test_mlp\n",
    "import theano.tensor as T\n",
    "pred = test_mlp(learning_rate=0.05, L1_reg=0.0000001, L2_reg=0.0000005, n_epochs=3000,\n",
    "             batch_size=1000, n_layer = 5, n_hidden= [500,500,500,500,500], verbose=False, \n",
    "             activation = [T.tanh,T.tanh, T.tanh, T.tanh,T.tanh], datasets=datasets, costV = [train_set_y_cost,valid_set_y_cost, test_set_y_cost ])"
   ]
  },
  {
   "cell_type": "code",
   "execution_count": 12,
   "metadata": {
    "collapsed": false
   },
   "outputs": [
    {
     "name": "stdout",
     "output_type": "stream",
     "text": [
      "('test accuracy of label 0 is: ', 0.7926829268292683)\n",
      "('test accuracy of label 1 is: ', 0.4387755102040816)\n"
     ]
    }
   ],
   "source": [
    "prediction = (test_set_y == pred)\n",
    "lst = []\n",
    "for i in range(len(prediction)):\n",
    "    lst.append((test_set_y[i],prediction[i]))\n",
    "\n",
    "num_0 = 0\n",
    "num_1 = 0\n",
    "num_0_right = 0\n",
    "num_1_right = 0\n",
    "for i in lst:\n",
    "    if i[0] == 0:\n",
    "        num_0 += 1\n",
    "        if i[1] == True:\n",
    "            num_0_right += 1\n",
    "    \n",
    "    if i[0] == 1:\n",
    "        num_1 += 1\n",
    "        if i[1] == True:\n",
    "            num_1_right += 1\n",
    "\n",
    "num_0_right_rate = num_0_right * 1.0 / num_0\n",
    "num_1_right_rate = num_1_right * 1.0 / num_1\n",
    "print (\"test accuracy of label 0 is: \", num_0_right_rate)\n",
    "print (\"test accuracy of label 1 is: \", num_1_right_rate)"
   ]
  },
  {
   "cell_type": "code",
   "execution_count": 13,
   "metadata": {
    "collapsed": false
   },
   "outputs": [
    {
     "name": "stdout",
     "output_type": "stream",
     "text": [
      "... building the model\n",
      "... training\n",
      "Optimization complete. Best validation score of 29.100000 % obtained at iteration 27, with test performance 29.200000 %\n"
     ]
    },
    {
     "name": "stderr",
     "output_type": "stream",
     "text": [
      "The code for file floodAnalysis.pyc ran for 2.39m\n"
     ]
    }
   ],
   "source": [
    "from floodAnalysis import test_mlp\n",
    "import theano.tensor as T\n",
    "pred = test_mlp(learning_rate=0.05, L1_reg=0.000000, L2_reg=0.000001, n_epochs=5000,\n",
    "             batch_size=1000, n_layer = 5, n_hidden= [500,500,500,500,500], verbose=False, \n",
    "             activation = [T.tanh,T.tanh, T.tanh, T.tanh,T.tanh], datasets=datasets, costV = [train_set_y_cost,valid_set_y_cost, test_set_y_cost ])"
   ]
  },
  {
   "cell_type": "code",
   "execution_count": 14,
   "metadata": {
    "collapsed": false
   },
   "outputs": [
    {
     "name": "stdout",
     "output_type": "stream",
     "text": [
      "('test accuracy of label 0 is: ', 0.8070953436807096)\n",
      "('test accuracy of label 1 is: ', 0.4387755102040816)\n"
     ]
    }
   ],
   "source": [
    "prediction = (test_set_y == pred)\n",
    "lst = []\n",
    "for i in range(len(prediction)):\n",
    "    lst.append((test_set_y[i],prediction[i]))\n",
    "\n",
    "num_0 = 0\n",
    "num_1 = 0\n",
    "num_0_right = 0\n",
    "num_1_right = 0\n",
    "for i in lst:\n",
    "    if i[0] == 0:\n",
    "        num_0 += 1\n",
    "        if i[1] == True:\n",
    "            num_0_right += 1\n",
    "    \n",
    "    if i[0] == 1:\n",
    "        num_1 += 1\n",
    "        if i[1] == True:\n",
    "            num_1_right += 1\n",
    "\n",
    "num_0_right_rate = num_0_right * 1.0 / num_0\n",
    "num_1_right_rate = num_1_right * 1.0 / num_1\n",
    "print (\"test accuracy of label 0 is: \", num_0_right_rate)\n",
    "print (\"test accuracy of label 1 is: \", num_1_right_rate)"
   ]
  },
  {
   "cell_type": "code",
   "execution_count": 15,
   "metadata": {
    "collapsed": false
   },
   "outputs": [
    {
     "name": "stdout",
     "output_type": "stream",
     "text": [
      "... building the model\n",
      "... training\n",
      "Optimization complete. Best validation score of 33.200000 % obtained at iteration 66, with test performance 32.800000 %\n"
     ]
    },
    {
     "name": "stderr",
     "output_type": "stream",
     "text": [
      "The code for file floodAnalysis.pyc ran for 2.90m\n"
     ]
    }
   ],
   "source": [
    "from floodAnalysis import test_mlp\n",
    "import theano.tensor as T\n",
    "pred = test_mlp(learning_rate=0.01, L1_reg=0.000000, L2_reg=0.000001, n_epochs=5000,\n",
    "             batch_size=1000, n_layer = 6, n_hidden= [500,500,500,500,500,500], verbose=False, \n",
    "             activation = [T.tanh,T.tanh, T.tanh, T.tanh,T.tanh, T.tanh], datasets=datasets, costV = [train_set_y_cost,valid_set_y_cost, test_set_y_cost ])"
   ]
  },
  {
   "cell_type": "code",
   "execution_count": 16,
   "metadata": {
    "collapsed": false
   },
   "outputs": [
    {
     "name": "stdout",
     "output_type": "stream",
     "text": [
      "('test accuracy of label 0 is: ', 0.7594235033259423)\n",
      "('test accuracy of label 1 is: ', 0.5408163265306123)\n"
     ]
    }
   ],
   "source": [
    "prediction = (test_set_y == pred)\n",
    "lst = []\n",
    "for i in range(len(prediction)):\n",
    "    lst.append((test_set_y[i],prediction[i]))\n",
    "\n",
    "num_0 = 0\n",
    "num_1 = 0\n",
    "num_0_right = 0\n",
    "num_1_right = 0\n",
    "for i in lst:\n",
    "    if i[0] == 0:\n",
    "        num_0 += 1\n",
    "        if i[1] == True:\n",
    "            num_0_right += 1\n",
    "    \n",
    "    if i[0] == 1:\n",
    "        num_1 += 1\n",
    "        if i[1] == True:\n",
    "            num_1_right += 1\n",
    "\n",
    "num_0_right_rate = num_0_right * 1.0 / num_0\n",
    "num_1_right_rate = num_1_right * 1.0 / num_1\n",
    "print (\"test accuracy of label 0 is: \", num_0_right_rate)\n",
    "print (\"test accuracy of label 1 is: \", num_1_right_rate)"
   ]
  },
  {
   "cell_type": "code",
   "execution_count": 5,
   "metadata": {
    "collapsed": false
   },
   "outputs": [
    {
     "name": "stdout",
     "output_type": "stream",
     "text": [
      "... building the model\n",
      "... training\n",
      "Optimization complete. Best validation score of 25.200000 % obtained at iteration 141, with test performance 28.500000 %"
     ]
    },
    {
     "name": "stderr",
     "output_type": "stream",
     "text": [
      "Using gpu device 0: GRID K520 (CNMeM is disabled, cuDNN Version is too old. Update to v5, was 3007.)\n",
      "The code for file floodAnalysis.pyc ran for 2.88m"
     ]
    },
    {
     "name": "stdout",
     "output_type": "stream",
     "text": [
      "\n"
     ]
    },
    {
     "name": "stderr",
     "output_type": "stream",
     "text": [
      "\n"
     ]
    }
   ],
   "source": [
    "from floodAnalysis import test_mlp\n",
    "import theano.tensor as T\n",
    "pred = test_mlp(learning_rate=0.01, L1_reg=0.000000, L2_reg=0.000001, n_epochs=5000,\n",
    "             batch_size=1000, n_layer = 6, n_hidden= [500,500,500,500,500,500], verbose=False, \n",
    "             activation = [T.tanh,T.tanh, T.tanh, T.tanh,T.tanh, T.tanh], datasets=datasets, costV = [train_set_y_cost,valid_set_y_cost, test_set_y_cost ])"
   ]
  },
  {
   "cell_type": "code",
   "execution_count": 6,
   "metadata": {
    "collapsed": false
   },
   "outputs": [
    {
     "name": "stdout",
     "output_type": "stream",
     "text": [
      "('test accuracy of label 0 is: ', 0.7581187010078387)\n",
      "('test accuracy of label 1 is: ', 0.4205607476635514)\n"
     ]
    }
   ],
   "source": [
    "prediction = (test_set_y == pred)\n",
    "lst = []\n",
    "for i in range(len(prediction)):\n",
    "    lst.append((test_set_y[i],prediction[i]))\n",
    "\n",
    "num_0 = 0\n",
    "num_1 = 0\n",
    "num_0_right = 0\n",
    "num_1_right = 0\n",
    "for i in lst:\n",
    "    if i[0] == 0:\n",
    "        num_0 += 1\n",
    "        if i[1] == True:\n",
    "            num_0_right += 1\n",
    "    \n",
    "    if i[0] == 1:\n",
    "        num_1 += 1\n",
    "        if i[1] == True:\n",
    "            num_1_right += 1\n",
    "\n",
    "num_0_right_rate = num_0_right * 1.0 / num_0\n",
    "num_1_right_rate = num_1_right * 1.0 / num_1\n",
    "print (\"test accuracy of label 0 is: \", num_0_right_rate)\n",
    "print (\"test accuracy of label 1 is: \", num_1_right_rate)"
   ]
  },
  {
   "cell_type": "code",
   "execution_count": 7,
   "metadata": {
    "collapsed": false
   },
   "outputs": [
    {
     "name": "stdout",
     "output_type": "stream",
     "text": [
      "... building the model\n",
      "... training\n",
      "Optimization complete. Best validation score of 23.300000 % obtained at iteration 225, with test performance 26.100000 %\n"
     ]
    },
    {
     "name": "stderr",
     "output_type": "stream",
     "text": [
      "The code for file floodAnalysis.pyc ran for 2.36m\n"
     ]
    }
   ],
   "source": [
    "from floodAnalysis import test_mlp\n",
    "import theano.tensor as T\n",
    "pred = test_mlp(learning_rate=0.01, L1_reg=0.000000, L2_reg=0.000001, n_epochs=5000,\n",
    "             batch_size=1000, n_layer = 5, n_hidden= [500,500,500,500,500], verbose=False, \n",
    "             activation = [T.tanh,T.tanh, T.tanh, T.tanh,T.tanh, T.tanh], datasets=datasets, costV = [train_set_y_cost,valid_set_y_cost, test_set_y_cost ])"
   ]
  },
  {
   "cell_type": "code",
   "execution_count": 8,
   "metadata": {
    "collapsed": false
   },
   "outputs": [
    {
     "name": "stdout",
     "output_type": "stream",
     "text": [
      "('test accuracy of label 0 is: ', 0.8051511758118701)\n",
      "('test accuracy of label 1 is: ', 0.4205607476635514)\n"
     ]
    }
   ],
   "source": [
    "prediction = (test_set_y == pred)\n",
    "lst = []\n",
    "for i in range(len(prediction)):\n",
    "    lst.append((test_set_y[i],prediction[i]))\n",
    "\n",
    "num_0 = 0\n",
    "num_1 = 0\n",
    "num_0_right = 0\n",
    "num_1_right = 0\n",
    "for i in lst:\n",
    "    if i[0] == 0:\n",
    "        num_0 += 1\n",
    "        if i[1] == True:\n",
    "            num_0_right += 1\n",
    "    \n",
    "    if i[0] == 1:\n",
    "        num_1 += 1\n",
    "        if i[1] == True:\n",
    "            num_1_right += 1\n",
    "\n",
    "num_0_right_rate = num_0_right * 1.0 / num_0\n",
    "num_1_right_rate = num_1_right * 1.0 / num_1\n",
    "print (\"test accuracy of label 0 is: \", num_0_right_rate)\n",
    "print (\"test accuracy of label 1 is: \", num_1_right_rate)"
   ]
  },
  {
   "cell_type": "code",
   "execution_count": 5,
   "metadata": {
    "collapsed": false
   },
   "outputs": [
    {
     "name": "stdout",
     "output_type": "stream",
     "text": [
      "... building the model\n",
      "... training\n",
      "Optimization complete. Best validation score of 31.200000 % obtained at iteration 210, with test performance 30.300000 %"
     ]
    },
    {
     "name": "stderr",
     "output_type": "stream",
     "text": [
      "Using gpu device 0: GRID K520 (CNMeM is disabled, cuDNN Version is too old. Update to v5, was 3007.)\n",
      "The code for file floodAnalysis.pyc ran for 2.38m"
     ]
    },
    {
     "name": "stdout",
     "output_type": "stream",
     "text": [
      "\n"
     ]
    },
    {
     "name": "stderr",
     "output_type": "stream",
     "text": [
      "\n"
     ]
    }
   ],
   "source": [
    "from floodAnalysis import test_mlp\n",
    "import theano.tensor as T\n",
    "pred = test_mlp(learning_rate=0.01, L1_reg=0.000000, L2_reg=0.000001, n_epochs=5000,\n",
    "             batch_size=1000, n_layer = 5, n_hidden= [500,500,500,500,500], verbose=False, \n",
    "             activation = [T.tanh,T.tanh, T.tanh, T.tanh,T.tanh, T.tanh], datasets=datasets, costV = [train_set_y_cost,valid_set_y_cost, test_set_y_cost ])"
   ]
  },
  {
   "cell_type": "code",
   "execution_count": 6,
   "metadata": {
    "collapsed": false
   },
   "outputs": [
    {
     "name": "stdout",
     "output_type": "stream",
     "text": [
      "('test accuracy of label 0 is: ', 0.8337078651685393)\n",
      "('test accuracy of label 1 is: ', 0.43636363636363634)\n"
     ]
    }
   ],
   "source": [
    "prediction = (test_set_y == pred)\n",
    "lst = []\n",
    "for i in range(len(prediction)):\n",
    "    lst.append((test_set_y[i],prediction[i]))\n",
    "\n",
    "num_0 = 0\n",
    "num_1 = 0\n",
    "num_0_right = 0\n",
    "num_1_right = 0\n",
    "for i in lst:\n",
    "    if i[0] == 0:\n",
    "        num_0 += 1\n",
    "        if i[1] == True:\n",
    "            num_0_right += 1\n",
    "    \n",
    "    if i[0] == 1:\n",
    "        num_1 += 1\n",
    "        if i[1] == True:\n",
    "            num_1_right += 1\n",
    "\n",
    "num_0_right_rate = num_0_right * 1.0 / num_0\n",
    "num_1_right_rate = num_1_right * 1.0 / num_1\n",
    "print (\"test accuracy of label 0 is: \", num_0_right_rate)\n",
    "print (\"test accuracy of label 1 is: \", num_1_right_rate)"
   ]
  },
  {
   "cell_type": "code",
   "execution_count": null,
   "metadata": {
    "collapsed": true
   },
   "outputs": [],
   "source": []
  }
 ],
 "metadata": {
  "kernelspec": {
   "display_name": "Python 2",
   "language": "python",
   "name": "python2"
  },
  "language_info": {
   "codemirror_mode": {
    "name": "ipython",
    "version": 2
   },
   "file_extension": ".py",
   "mimetype": "text/x-python",
   "name": "python",
   "nbconvert_exporter": "python",
   "pygments_lexer": "ipython2",
   "version": "2.7.11"
  }
 },
 "nbformat": 4,
 "nbformat_minor": 0
}
